{
 "cells": [
  {
   "cell_type": "code",
   "execution_count": 1,
   "metadata": {},
   "outputs": [],
   "source": [
    "##https://selenium-python.readthedocs.io/locating-elements.html\n",
    "#pip install textblob\n",
    "##https://textblob.readthedocs.io/en/latest/quickstart.html#quickstart\n",
    "#\n",
    "##https://www.youtube.com/watch?v=fM_Os976HsQ\n",
    "#\n",
    "##https://www.youtube.com/watch?v=-qYljhR4hsc\n"
   ]
  },
  {
   "cell_type": "code",
   "execution_count": 2,
   "metadata": {},
   "outputs": [],
   "source": [
    "#LINK NOTICIAS FALAS\n",
    "#https://www.cjr.org/fake-beta\n",
    "#https://www.12minutos.com/\n",
    "\n",
    "#LINK NOTICIAS REALES\n",
    "#https://www.primicias.ec/sociedad/\n",
    "#https://www.unir.net/ciencias-sociales/revista/"
   ]
  },
  {
   "cell_type": "code",
   "execution_count": 3,
   "metadata": {},
   "outputs": [],
   "source": [
    "#Asignación simple\n",
    "from selenium import webdriver\n",
    "from textblob import TextBlob\n",
    "from time import sleep\n",
    "import random\n",
    "import pandas as pd\n",
    "import itertools\n",
    "import numpy as np\n",
    "from sklearn.model_selection import train_test_split\n",
    "from sklearn.feature_extraction.text import TfidfVectorizer\n",
    "from sklearn.linear_model import PassiveAggressiveClassifier\n",
    "from sklearn.metrics import accuracy_score, confusion_matrix"
   ]
  },
  {
   "cell_type": "code",
   "execution_count": 4,
   "metadata": {},
   "outputs": [],
   "source": [
    "l_t = []\n",
    "l_tb = []\n",
    "l_link = []\n",
    "l_t_en = []\n",
    "l_tb_en = []\n",
    "l_t_s_p = []\n",
    "l_t_s_s = []\n",
    "l_tb_s_p = []\n",
    "l_tb_s_s = []\n",
    "l_n = []"
   ]
  },
  {
   "cell_type": "markdown",
   "metadata": {},
   "source": [
    "REAL_NEWS"
   ]
  },
  {
   "cell_type": "code",
   "execution_count": 5,
   "metadata": {},
   "outputs": [],
   "source": [
    "def primicias():\n",
    "    url = \"https://www.primicias.ec/sociedad/\"\n",
    "    driver = webdriver.Edge(executable_path=\"E:\\\\WebDriver\\\\bin\\\\msedgedriver.exe\")\n",
    "    print(\"la pagina a la que tienes q ir: \", url)\n",
    "    driver.get(url)\n",
    "    b = driver.find_element_by_link_text(\"Más noticias\")\n",
    "    for i in range(3):\n",
    "        driver.execute_script(\"arguments[0].click();\", b)\n",
    "        sleep(random.uniform(8.0, 10.0))\n",
    "        b = driver.find_element_by_link_text(\"Más noticias\")\n",
    "    content = driver.find_elements_by_xpath(\"//div[@class='noticia__contenido']\")\n",
    "    #print(len(list(content)))\n",
    "    indice = 0\n",
    "    try:\n",
    "        for i in content:\n",
    "            indice += 1\n",
    "            titulo = i.find_element_by_xpath(\".//p[2]\").text\n",
    "            #print(\"Titulo {}: \".format(indice), titulo)\n",
    "            #titulo_s = TextBlob(titulo)\n",
    "            #titulo_t = titulo_s.translate(to=\"en\")\n",
    "            #print(\"Analisis sentimiento Titulo: \", titulo_t.sentiment)\n",
    "            texto_breve = i.find_element_by_xpath(\".//p[3]\").text\n",
    "            #print(\"Descripcion breve {}: \".format(indice), texto_breve)\n",
    "            #texto_breve_s = TextBlob(texto_breve)\n",
    "            #texto_breve_t = texto_breve_s.translate(to=\"en\")\n",
    "            #print(\"Analisis sentimiento DescripcionBreve: \", texto_breve_t.sentiment)\n",
    "            link = i.find_element_by_xpath(\".//a\").get_attribute('href')\n",
    "            #print(\"Link {}: \".format(indice), link)\n",
    "            l_t.append(titulo)\n",
    "            l_tb.append(texto_breve)\n",
    "            l_link.append(link)\n",
    "            l_n.append(\"REAL\")\n",
    "            #print(\"-----------------------------\")\n",
    "    except:\n",
    "        pass\n",
    "    driver.close()"
   ]
  },
  {
   "cell_type": "code",
   "execution_count": 6,
   "metadata": {},
   "outputs": [
    {
     "name": "stdout",
     "output_type": "stream",
     "text": [
      "la pagina a la que tienes q ir:  https://www.primicias.ec/sociedad/\n"
     ]
    }
   ],
   "source": [
    "primicias()"
   ]
  },
  {
   "cell_type": "code",
   "execution_count": 7,
   "metadata": {},
   "outputs": [],
   "source": [
    "def unir():\n",
    "    url = \"https://www.unir.net/ciencias-sociales/revista/\"\n",
    "    driver = webdriver.Edge(executable_path=\"E:\\\\WebDriver\\\\bin\\\\msedgedriver.exe\")\n",
    "    print(\"la pagina a la que tienes q ir: \", url)\n",
    "    driver.get(url)\n",
    "    content = driver.find_elements_by_xpath(\"//div[@class='card__content']\")\n",
    "    #print(len(list(content)))\n",
    "    indice = 0\n",
    "    for i in content:\n",
    "        indice += 1\n",
    "        titulo = i.find_element_by_xpath(\".//h3[@class='heading--h3 -text-primary']\").text\n",
    "        #print(\"Titulo {}: \".format(indice), titulo)\n",
    "        texto_breve = i.find_element_by_xpath(\".//p[2]\").text\n",
    "        #print(\"Descripcion breve {}: \".format(indice), texto_breve)\n",
    "        link = i.find_element_by_xpath(\".//a\").get_attribute('href')\n",
    "        #print(\"Link {}: \".format(indice), link)\n",
    "        l_t.append(titulo)\n",
    "        l_tb.append(texto_breve)\n",
    "        l_link.append(link)\n",
    "        l_n.append(\"REAL\")\n",
    "        #print(\"-----------\")\n",
    "    driver.close()"
   ]
  },
  {
   "cell_type": "code",
   "execution_count": 8,
   "metadata": {},
   "outputs": [
    {
     "name": "stdout",
     "output_type": "stream",
     "text": [
      "la pagina a la que tienes q ir:  https://www.unir.net/ciencias-sociales/revista/\n"
     ]
    }
   ],
   "source": [
    "unir()"
   ]
  },
  {
   "cell_type": "markdown",
   "metadata": {},
   "source": [
    "FAKE NEWS"
   ]
  },
  {
   "cell_type": "code",
   "execution_count": 9,
   "metadata": {},
   "outputs": [],
   "source": [
    "#https://www.12minutos.com/ - FAKE NEWS\n",
    "def twelvem():\n",
    "    url = \"https://www.12minutos.com/\"\n",
    "    driver = webdriver.Edge(executable_path=\"E:\\\\WebDriver\\\\bin\\\\msedgedriver.exe\")\n",
    "    print(\"la pagina a la que tienes q ir: \", url)\n",
    "    driver.get(url)\n",
    "    #desc\n",
    "    content = driver.find_elements_by_xpath(\"//div[@class='desc']\")\n",
    "    #print(len(list(content)))\n",
    "    indice = 0\n",
    "    for i in content:\n",
    "        indice += 1\n",
    "        titulo = i.find_element_by_xpath(\".//h2\").text\n",
    "        #print(\"Titulo {}: \".format(indice), titulo)\n",
    "        #titulo_s = TextBlob(titulo)\n",
    "        #titulo_t = titulo_s.translate(to=\"en\")\n",
    "        #print(\"Analisis sentimiento Titulo: \", titulo_t.sentiment)\n",
    "        \n",
    "        texto_breve = i.find_element_by_xpath(\".//p\").text\n",
    "        #print(\"Descripcion breve {}: \".format(indice), texto_breve)\n",
    "        #texto_breve_s = TextBlob(texto_breve)\n",
    "        #texto_breve_t = texto_breve_s.translate(to=\"en\")\n",
    "        #print(\"Analisis sentimiento DescripcionBreve: \", texto_breve_t.sentiment)\n",
    "        link = i.find_element_by_xpath(\".//a\").get_attribute('href')\n",
    "        #print(\"Link {}: \".format(indice), link)\n",
    "        l_t.append(titulo)\n",
    "        l_tb.append(texto_breve)\n",
    "        l_link.append(link)\n",
    "        l_n.append(\"FAKE\")\n",
    "        #print(\"---------------\")\n",
    "    driver.close()"
   ]
  },
  {
   "cell_type": "code",
   "execution_count": 10,
   "metadata": {},
   "outputs": [
    {
     "name": "stdout",
     "output_type": "stream",
     "text": [
      "la pagina a la que tienes q ir:  https://www.12minutos.com/\n"
     ]
    }
   ],
   "source": [
    "twelvem()"
   ]
  },
  {
   "cell_type": "code",
   "execution_count": 11,
   "metadata": {},
   "outputs": [],
   "source": [
    "l_t_en = ['Low execution of the Quito budget shows poor management',\n",
    " 'Dialysis centers in crisis due to millionaire debt of the Ministry of Health',\n",
    " '271,440 doses of Pfizer arrived in Ecuador this August 3',\n",
    " 'August 2, 2021: Ecuador reaches 487,702 cases of Covid-19',\n",
    " 'Municipality of Guayaquil donated 50 motorcycles to strengthen security',\n",
    " 'Ecuador receives a shipment with 200,000 doses of CanSino vaccine',\n",
    " 'Unhcr: there is danger for immigrants in Ecuador if they return to their countries',\n",
    " 'Puerto Roma, a population at the mercy of oblivion and pirates',\n",
    " 'Comptroller\\'s Office: In Teodoro Maldonado there was abuse of payment agreements',\n",
    " 'Officials possessed by Guarderas leave the Municipality of Quito',\n",
    " 'Ecuador will receive 200,000 doses of the Chinese vaccine from CanSino',\n",
    " 'Get to know the new vaccination schedule from August 2 to 8',\n",
    " 'Zapata defends restriction, El Oro merchants announce protests',\n",
    " 'Nine million people in the country have received the first dose of the vaccine',\n",
    " 'More than 60% of the Lgtbi population has suffered ridicule and harassment at work',\n",
    " 'Communes of Puná: abandoned by the State, but without Covid-19',\n",
    " 'A technical committee will analyze the progress of the Quito Metro',\n",
    " 'Brith Vaca: “Direct management is the best for the Quito Metro”',\n",
    " 'Health intervenes hospital in which six children died',\n",
    " 'Ecuador will deploy\\' Plan Fénix \\'to vaccinate in areas of difficult access',\n",
    " 'COE reduces to 50% the capacity for face-to-face work throughout the country',\n",
    " 'State of exception does not include people with two doses of vaccination',\n",
    " 'Ecuador exceeds 10 million doses of vaccines for Covid-19',\n",
    " 'Three keys to understanding the characteristics of the delta variant',\n",
    " 'July 28, 2021: Ecuador confirms 786 cases of Covid-19 in 24 hours',\n",
    " 'COE recommends expanding the state of exception in El Oro and Guayaquil',\n",
    " 'Six points enabled to vaccinate adolescents over 16 years of age, in Quito',\n",
    " '“If we didn\\'t get vaccinated, now we would be in the cemetery”',\n",
    " 'A new batch with 255,060 doses of Pfizer\\'s vaccine arrived in the country',\n",
    " 'Bermeo: “More than a million CNEL users were compensated”',\n",
    " 'July 27, 2021: Ecuador adds 482,947 cases of Covid-19',\n",
    " 'Francisco Pérez: \"Adverse effects of vaccines have been mild\"',\n",
    " 'Municipality of Quito reduces capacity in shops, banks and entertainment venues',\n",
    " 'Six new cases of the Delta variant detected in El Oro and Guayas',\n",
    " 'There will be no attention in vaccinations in Guayaquil on Monday, July 26',\n",
    " 'Government accelerates the pace to reach the goal of 9 million vaccinated',\n",
    " 'Government makes new adjustments to the vaccination plan against Covid-19',\n",
    " 'Universidad San Francisco confirms another positive case of delta variant in Quito',\n",
    " 'Ecuador added 883 new cases of Covid-19 on July 24, 2021',\n",
    " 'A community in Guayaquil joins the Police to fight crime',\n",
    " 'Quito is one of the best destinations of 2021, according to Time magazine',\n",
    " 'WHO reiterates to China that the world needs to understand the origin of the virus',\n",
    " 'Family Baquerizo asks that the draw to appoint judges be public',\n",
    " '\"What I value the most, and what the students have also transmitted to me, is the scenario of interaction and reflection that is generated\"',\n",
    " 'The keys to triangular cooperation',\n",
    " 'What are the rights of refugees and why should we safeguard them?',\n",
    " 'Social expertise: visions from Chile and from Spain',\n",
    " 'The free exercise of Social Work in the organizational sphere',\n",
    " 'Humanitarian action, ensuring the basic needs of the population in the event of a catastrophe',\n",
    " 'Social Work in free exercise: origin and trends in Spain and Chile',\n",
    " 'Cohousing: where do you see yourself in 50 years?',\n",
    " 'International cooperation and development projects, aid for the most disadvantaged countries',\n",
    " 'Electric scooters with insurance from June 2021',\n",
    " 'FIRST ENCOUNTER WITH A UFO IN SPAIN',\n",
    " 'When will Blackpink and BTS collaborate?',\n",
    " 'A dog tries to rob a bank in Andorra.',\n",
    " 'The Dandy of Barcelona has risen',\n",
    " '[CORONAVIRUS - COVID-19]',\n",
    " 'Gypsies are immune to the Coronavirus. Not a single case of infection in the whole world ',\n",
    " 'UFOs in Argentina -The government prepares a contingency plan.',\n",
    " 'There is a \"zombie\" attack of those infected by the coronavirus.']"
   ]
  },
  {
   "cell_type": "code",
   "execution_count": 12,
   "metadata": {},
   "outputs": [],
   "source": [
    "for t in l_t_en:\n",
    "    tt = TextBlob(t)\n",
    "    l_t_s_p.append(tt.sentiment.polarity)\n",
    "    l_t_s_s.append(tt.sentiment.subjectivity)"
   ]
  },
  {
   "cell_type": "code",
   "execution_count": 13,
   "metadata": {},
   "outputs": [],
   "source": [
    "l_tb_en = ['The impact of the Covid-19 pandemic and the institutional crisis that the Municipality of Quito is experiencing are portrayed in the low budget execution.',\n",
    " 'The Ministry of Health owes 80 private dialysis centers USD 236 million. The hemodialysis of more than 14,000 patients in the country is at risk. ',\n",
    " \"The shipment of the vaccine arrived at the Mariscal Sucre airport in the afternoon and will serve to accelerate the government's plan.\",\n",
    " 'The Ministry of Health details that in the country there are 31,644 deaths between confirmed and probable.',\n",
    " 'The Police received from the Municipality of Guayaquil 50 motorcycles, five vehicles for intelligence and other implements to strengthen citizen security.',\n",
    " 'This vaccine only requires the application of one dose. It is 65.2% effective in preventing mild symptoms and 95.47% in preventing severe cases. ',\n",
    " 'Insecurity, fear of armed groups, widespread violence and difficulty in getting food or work threaten immigrants.',\n",
    " 'The communes settled in rural areas in the Gulf of Guayaquil are in oblivion, without security, drinking water, health or education.',\n",
    " 'A report from the Comptroller\\'s Office revealed that processes for the purchase of medicines and supplies were circumvented at the IESS Teodoro Maldonado Carbo hospital.',\n",
    " 'Santiago Guarderas held the position of Mayor of Quito for 12 days. At that time he appointed officials to accompany him in his management. ',\n",
    " \"It is expected that by the end of August, 700,000 vaccines of a single dose of Convidecia, from the Chinese company CanSino, will reach Ecuador.\",\n",
    " 'People from 16 to 21 years of age and those who did not do so on the date they were entitled to be vaccinated. There is a schedule for second doses. ',\n",
    " \"The president of the Cantonal COE pointed out that the restriction measures have prevented a spread of the delta variant as in other countries.\",\n",
    " \"The Government assured that the country reached a milestone in the pandemic, after nine million Ecuadorians received the first dose of the vaccine.\",\n",
    " 'A survey, carried out by human rights organizations, portrays the violence suffered by the LGBT community in the workplace.',\n",
    " 'The Ministry of Health allocated 1,400 vaccines from Sinovac and Pfizer to inoculate the inhabitants of Punta Piedra and Puerto Roma, two communes of Puná.',\n",
    " 'The issues that will be followed up are: operation model, integrated collection system, trusts and receipt of the work.',\n",
    " \"The Vice Mayor says that Quito needs a plan that aims at economic reactivation that depends, to a large extent, on the advancement of vaccination.\",\n",
    " 'The Ministry of Health recognized that four of the deaths were caused by a bacterium called Klebsiella pneumoniae.',\n",
    " 'With this initiative, the Government aims to reach 800,000 people in isolated areas in 80 cantons of the country with the Covid-19 vaccination.',\n",
    " \"The agency asked the mayors of the 221 cantons of the country to maintain controls in public spaces and transportation systems.\",\n",
    " 'The president renewed the state of exception for the province of El Oro and the city of Guayaquil for 30 days due to the presence of the Delta variant.',\n",
    " 'Vice President Alfredo Borrero pointed out that 8.1 million people have one dose of the vaccine, while 2.1 million have both doses.',\n",
    " 'The delta variant forces countries with a high immunization rate to return to the mask. PRIMICIAS explains the characteristics of this strain. ',\n",
    " \"Since the beginning of the pandemic, the country has registered 483,733 people with the disease, in addition to 31,454 deaths between confirmed and probable.\",\n",
    " 'As of July 28, 2021, the Ministry of Health has identified 85 cases of patients infected with the delta variant of the coronavirus.',\n",
    " 'From today, the Ministry of Health will vaccinate students 16 years of age and older, from public, private and fiscal educational institutions.',\n",
    " 'Guido Jaramillo and Fabiola Carrera were infected with Covid-19, despite having two doses of the vaccine. However, the effects were mild. ',\n",
    " \"The Ministry of Health assures that, so far, Ecuador has received more than 15 million doses of Pfizer, Sinovac and AstraZeneca.\",\n",
    " \"The Minister of Energy, Juan Carlos Bermeo, assured that CNEL generated more than USD 14 million in compensation to subscribers' electricity bills.\",\n",
    " 'The Ministry of Health says that 31,426 deaths from Covid-19 have been reported since the beginning of the pandemic, between confirmed and probable.',\n",
    " 'The Undersecretary of Surveillance of the Ministry of Health, Francisco Pérez, said that there have been no serious effects in those vaccinated against Covid-19.',\n",
    " 'The Municipality of Quito issued a resolution in which it reduces capacity in different businesses with the aim of slowing down infections in the city.',\n",
    " 'Of the six cases, three were detected in Machala, two in Guayaquil and one in Samborondón. The experts highlight the importance of the vaccination plan. ',\n",
    " 'The Ministry of Health reported that the vaccination centers in Guayaquil will be disabled on July 26, 2021 due to the city\\'s festivities.',\n",
    " 'Ecuador ranks 13th out of 23 nations in the region that have vaccinated the highest number of inhabitants.',\n",
    " 'Between August 2 and 31, 2021, the Ministry of Health reported that it will apply the second doses of the Pfizer and Sinovac vaccines.',\n",
    " 'The new case of the delta variant in Quito is imported, as there are reports that the patient traveled abroad and then returned to the country.',\n",
    " 'The Ministry of Health reported that since the beginning of the pandemic, the country has already recorded 481,603 positive cases with the disease.',\n",
    " 'According to the Police in the Ietel neighborhood, north of Guayaquil, there are up to 10 robberies a week. Its inhabitants organized to combat the problem. ',\n",
    " 'The capital of Ecuador, considered a World Heritage Site, was included in the ranking of the 100 greatest places of 2021.',\n",
    " 'The World Health Organization (WHO) insisted that China provide the data on the early days of the pandemic.',\n",
    " 'The makeup artist for Lisbeth Baquerizo\\'s body, murdered on December 21, 2020, was released, after availing herself of the abbreviated procedure.',\n",
    " 'Is it possible to learn science or humanities through art? It is the ‘leit movit’ of Making Art Happen, a project that the students of the Master in Social Intervention have joined. ',\n",
    " 'Triangular cooperation between traditional donor countries and multilateral organizations facilitates South-South initiatives through funding, training, management and technology.',\n",
    " 'A refugee has the same rights as a citizen of the host country, regardless of whether his or her stay is short, medium or long.',\n",
    " 'This report is used in both judicial and extrajudicial processes, as evidence to assess the person\\'s social environment, both before and after the fact under investigation.',\n",
    " 'In the organizational setting, one lives in a VUCA environment, where nothing is similar to the past, due to volatility, uncertainty, complexity and ambiguity.',\n",
    " 'Humanitarian action is one that is intended for the population victim of displacement by natural disasters, wars or armed conflicts to guarantee their access to basic services.',\n",
    " 'As a result of the economic and social crisis of 2008, and in the face of the massive use of social networks, Social Work is made known in a general way as a professional activity of a private nature.',\n",
    " 'This podcast analyzes the concept of collaborative housing for the elderly, with the help of Mayte Cortés and Karim Ahmed, professors of the Master in Management and Social Health Intervention at UNIR.',\n",
    " 'The purpose of international cooperation and development projects is to improve the quality of life of underdeveloped countries and promote a more sustainable and equitable world development.',\n",
    " 'As of June 23 in Spain it will be mandatory to have an insurance contracted, the price of this will oscillate between 22 and 78 euros per month',\n",
    " 'At dawn on Thursday, May 13, in a town in the Valencian Community called Manises, a UFO has entered the airspace. All airport radars have identified a UFO ... ',\n",
    " 'Blackpink and BTS are the two biggest kpop groups, so many fans already want to have the collaboration of Blackpink and BTS, their two agencies (YG and Hybe) have already given their collaboration date, ...',\n",
    " 'A dog named Spike tries to rob one of the safest banks in Andorra. He was detained by the Security Forces when he threatened one of the employees of said bank with a knife. Its ...',\n",
    " 'Claudio Bermejo, better known as the dandy of Barcelona, ​​was not dead, he was partying. One of his relatives said that he had died of heart failure but in reality he is ... ',\n",
    " '[CORONAVIRUS-COVID-19] Has he recently bought any marijuana? Do you have any doubt that he may be contaminated with the Covid-19 coronavirus? Report to local security forces ... ',\n",
    " 'The most surprising news of today Tuesday, arising from the statistics on the control in the spread of Covid19, has given another surprising data that has left the medical community speechless. ... ',\n",
    " 'Argentina gathers its ministers for the strange death of more than 50 tourists at the Iguazu Falls. The bodies were found mutilated on the huge light walkways. ',\n",
    " 'A first attack of patients infected with the \"Coronavirus\" is registered, according to experts it would be a mutation of this virus. The army isolated the area and there is fear throughout Europe. ']           "
   ]
  },
  {
   "cell_type": "code",
   "execution_count": 14,
   "metadata": {},
   "outputs": [],
   "source": [
    "for tb in l_tb_en:\n",
    "    ttb = TextBlob(tb)\n",
    "    l_tb_s_p.append(ttb.sentiment.polarity)\n",
    "    l_tb_s_s.append(ttb.sentiment.subjectivity)"
   ]
  },
  {
   "cell_type": "code",
   "execution_count": 15,
   "metadata": {},
   "outputs": [],
   "source": [
    "df3 = pd.read_csv('fake_or_real_news.csv')"
   ]
  },
  {
   "cell_type": "code",
   "execution_count": 16,
   "metadata": {},
   "outputs": [],
   "source": [
    "a = df3['title']\n",
    "b = df3['text']\n",
    "l = df3['label']"
   ]
  },
  {
   "cell_type": "code",
   "execution_count": 17,
   "metadata": {},
   "outputs": [],
   "source": [
    "for i, j, m in zip(a, b, l):\n",
    "    l_t.append(\" \")\n",
    "    l_tb.append(\" \")\n",
    "    l_link.append(\" \")\n",
    "    l_t_en.append(i)\n",
    "    tt = TextBlob(i)\n",
    "    l_t_s_p.append(tt.sentiment.polarity)\n",
    "    l_t_s_s.append(tt.sentiment.subjectivity)\n",
    "    l_tb_en.append(j)\n",
    "    ttb = TextBlob(j)\n",
    "    l_tb_s_p.append(ttb.sentiment.polarity)\n",
    "    l_tb_s_s.append(ttb.sentiment.subjectivity)\n",
    "    l_n.append(m)"
   ]
  },
  {
   "cell_type": "code",
   "execution_count": 18,
   "metadata": {},
   "outputs": [
    {
     "name": "stdout",
     "output_type": "stream",
     "text": [
      "6396\n",
      "6396\n",
      "6396\n",
      "6396\n",
      "6396\n",
      "6396\n",
      "6396\n",
      "6396\n",
      "6396\n",
      "6396\n"
     ]
    }
   ],
   "source": [
    "print(len(l_t))\n",
    "print(len(l_tb))\n",
    "print(len(l_link))\n",
    "print(len(l_t_en))\n",
    "print(len(l_tb_en))\n",
    "print(len(l_t_s_p))\n",
    "print(len(l_t_s_s))\n",
    "print(len(l_tb_s_p))\n",
    "print(len(l_tb_s_s))\n",
    "print(len(l_n))"
   ]
  },
  {
   "cell_type": "code",
   "execution_count": 19,
   "metadata": {},
   "outputs": [
    {
     "data": {
      "text/html": [
       "<div>\n",
       "<style scoped>\n",
       "    .dataframe tbody tr th:only-of-type {\n",
       "        vertical-align: middle;\n",
       "    }\n",
       "\n",
       "    .dataframe tbody tr th {\n",
       "        vertical-align: top;\n",
       "    }\n",
       "\n",
       "    .dataframe thead th {\n",
       "        text-align: right;\n",
       "    }\n",
       "</style>\n",
       "<table border=\"1\" class=\"dataframe\">\n",
       "  <thead>\n",
       "    <tr style=\"text-align: right;\">\n",
       "      <th></th>\n",
       "      <th>titulo</th>\n",
       "      <th>texto</th>\n",
       "      <th>url</th>\n",
       "      <th>titulo_en</th>\n",
       "      <th>texto_en</th>\n",
       "      <th>sent_tit_p</th>\n",
       "      <th>sent_tit_s</th>\n",
       "      <th>sent_tex_p</th>\n",
       "      <th>sent_tex_s</th>\n",
       "      <th>label</th>\n",
       "    </tr>\n",
       "  </thead>\n",
       "  <tbody>\n",
       "    <tr>\n",
       "      <th>0</th>\n",
       "      <td>Baja ejecución del presupuesto de Quito muestr...</td>\n",
       "      <td>El impacto de la pandemia de Covid-19 y la cri...</td>\n",
       "      <td>https://www.primicias.ec/noticias/sociedad/mun...</td>\n",
       "      <td>Low execution of the Quito budget shows poor m...</td>\n",
       "      <td>The impact of the Covid-19 pandemic and the in...</td>\n",
       "      <td>-0.200</td>\n",
       "      <td>0.450</td>\n",
       "      <td>0.000</td>\n",
       "      <td>0.3000</td>\n",
       "      <td>REAL</td>\n",
       "    </tr>\n",
       "    <tr>\n",
       "      <th>1</th>\n",
       "      <td>Centros de diálisis en crisis por deuda millon...</td>\n",
       "      <td>El Ministerio de Salud le debe a 80 centros de...</td>\n",
       "      <td>https://www.primicias.ec/noticias/sociedad/cen...</td>\n",
       "      <td>Dialysis centers in crisis due to millionaire ...</td>\n",
       "      <td>The Ministry of Health owes 80 private dialysi...</td>\n",
       "      <td>-0.125</td>\n",
       "      <td>0.375</td>\n",
       "      <td>0.250</td>\n",
       "      <td>0.4375</td>\n",
       "      <td>REAL</td>\n",
       "    </tr>\n",
       "    <tr>\n",
       "      <th>2</th>\n",
       "      <td>271.440 dosis de Pfizer llegaron a Ecuador est...</td>\n",
       "      <td>El cargamento de la vacuna arribó al aeropuert...</td>\n",
       "      <td>https://www.primicias.ec/noticias/sociedad/vac...</td>\n",
       "      <td>271,440 doses of Pfizer arrived in Ecuador thi...</td>\n",
       "      <td>The shipment of the vaccine arrived at the Mar...</td>\n",
       "      <td>0.000</td>\n",
       "      <td>0.000</td>\n",
       "      <td>0.000</td>\n",
       "      <td>0.0000</td>\n",
       "      <td>REAL</td>\n",
       "    </tr>\n",
       "    <tr>\n",
       "      <th>3</th>\n",
       "      <td>2 de agosto de 2021: Ecuador llega a los 487.7...</td>\n",
       "      <td>El Ministerio de Salud detalla que en el país ...</td>\n",
       "      <td>https://www.primicias.ec/noticias/sociedad/ago...</td>\n",
       "      <td>August 2, 2021: Ecuador reaches 487,702 cases ...</td>\n",
       "      <td>The Ministry of Health details that in the cou...</td>\n",
       "      <td>0.000</td>\n",
       "      <td>0.000</td>\n",
       "      <td>0.400</td>\n",
       "      <td>1.0000</td>\n",
       "      <td>REAL</td>\n",
       "    </tr>\n",
       "    <tr>\n",
       "      <th>4</th>\n",
       "      <td>Municipio de Guayaquil donó 50 motos para fort...</td>\n",
       "      <td>La Policía recibió del Municipio de Guayaquil ...</td>\n",
       "      <td>https://www.primicias.ec/noticias/sociedad/mun...</td>\n",
       "      <td>Municipality of Guayaquil donated 50 motorcycl...</td>\n",
       "      <td>The Police received from the Municipality of G...</td>\n",
       "      <td>0.000</td>\n",
       "      <td>0.000</td>\n",
       "      <td>-0.125</td>\n",
       "      <td>0.3750</td>\n",
       "      <td>REAL</td>\n",
       "    </tr>\n",
       "  </tbody>\n",
       "</table>\n",
       "</div>"
      ],
      "text/plain": [
       "                                              titulo  \\\n",
       "0  Baja ejecución del presupuesto de Quito muestr...   \n",
       "1  Centros de diálisis en crisis por deuda millon...   \n",
       "2  271.440 dosis de Pfizer llegaron a Ecuador est...   \n",
       "3  2 de agosto de 2021: Ecuador llega a los 487.7...   \n",
       "4  Municipio de Guayaquil donó 50 motos para fort...   \n",
       "\n",
       "                                               texto  \\\n",
       "0  El impacto de la pandemia de Covid-19 y la cri...   \n",
       "1  El Ministerio de Salud le debe a 80 centros de...   \n",
       "2  El cargamento de la vacuna arribó al aeropuert...   \n",
       "3  El Ministerio de Salud detalla que en el país ...   \n",
       "4  La Policía recibió del Municipio de Guayaquil ...   \n",
       "\n",
       "                                                 url  \\\n",
       "0  https://www.primicias.ec/noticias/sociedad/mun...   \n",
       "1  https://www.primicias.ec/noticias/sociedad/cen...   \n",
       "2  https://www.primicias.ec/noticias/sociedad/vac...   \n",
       "3  https://www.primicias.ec/noticias/sociedad/ago...   \n",
       "4  https://www.primicias.ec/noticias/sociedad/mun...   \n",
       "\n",
       "                                           titulo_en  \\\n",
       "0  Low execution of the Quito budget shows poor m...   \n",
       "1  Dialysis centers in crisis due to millionaire ...   \n",
       "2  271,440 doses of Pfizer arrived in Ecuador thi...   \n",
       "3  August 2, 2021: Ecuador reaches 487,702 cases ...   \n",
       "4  Municipality of Guayaquil donated 50 motorcycl...   \n",
       "\n",
       "                                            texto_en  sent_tit_p  sent_tit_s  \\\n",
       "0  The impact of the Covid-19 pandemic and the in...      -0.200       0.450   \n",
       "1  The Ministry of Health owes 80 private dialysi...      -0.125       0.375   \n",
       "2  The shipment of the vaccine arrived at the Mar...       0.000       0.000   \n",
       "3  The Ministry of Health details that in the cou...       0.000       0.000   \n",
       "4  The Police received from the Municipality of G...       0.000       0.000   \n",
       "\n",
       "   sent_tex_p  sent_tex_s label  \n",
       "0       0.000      0.3000  REAL  \n",
       "1       0.250      0.4375  REAL  \n",
       "2       0.000      0.0000  REAL  \n",
       "3       0.400      1.0000  REAL  \n",
       "4      -0.125      0.3750  REAL  "
      ]
     },
     "execution_count": 19,
     "metadata": {},
     "output_type": "execute_result"
    }
   ],
   "source": [
    "exa = {'titulo':l_t, \n",
    "       'texto':l_tb, \n",
    "       'url':l_link, \n",
    "       'titulo_en':l_t_en, \n",
    "       'texto_en':l_tb_en, \n",
    "       'sent_tit_p':l_t_s_p,\n",
    "       'sent_tit_s':l_t_s_s, \n",
    "       'sent_tex_p':l_tb_s_p, \n",
    "       'sent_tex_s':l_tb_s_s, \n",
    "       'label':l_n}\n",
    "df = pd.DataFrame(data = exa)\n",
    "df.head()"
   ]
  },
  {
   "cell_type": "code",
   "execution_count": 20,
   "metadata": {},
   "outputs": [],
   "source": [
    "df.to_csv('set_noticias_real_and_fake.csv',index = False)"
   ]
  },
  {
   "cell_type": "code",
   "execution_count": 21,
   "metadata": {},
   "outputs": [],
   "source": [
    "#Read the data\n",
    "df2 = pd.read_csv('set_noticias_real_and_fake.csv')"
   ]
  },
  {
   "cell_type": "code",
   "execution_count": 22,
   "metadata": {},
   "outputs": [
    {
     "data": {
      "text/html": [
       "<div>\n",
       "<style scoped>\n",
       "    .dataframe tbody tr th:only-of-type {\n",
       "        vertical-align: middle;\n",
       "    }\n",
       "\n",
       "    .dataframe tbody tr th {\n",
       "        vertical-align: top;\n",
       "    }\n",
       "\n",
       "    .dataframe thead th {\n",
       "        text-align: right;\n",
       "    }\n",
       "</style>\n",
       "<table border=\"1\" class=\"dataframe\">\n",
       "  <thead>\n",
       "    <tr style=\"text-align: right;\">\n",
       "      <th></th>\n",
       "      <th>titulo</th>\n",
       "      <th>texto</th>\n",
       "      <th>url</th>\n",
       "      <th>titulo_en</th>\n",
       "      <th>texto_en</th>\n",
       "      <th>sent_tit_p</th>\n",
       "      <th>sent_tit_s</th>\n",
       "      <th>sent_tex_p</th>\n",
       "      <th>sent_tex_s</th>\n",
       "      <th>label</th>\n",
       "    </tr>\n",
       "  </thead>\n",
       "  <tbody>\n",
       "    <tr>\n",
       "      <th>0</th>\n",
       "      <td>Baja ejecución del presupuesto de Quito muestr...</td>\n",
       "      <td>El impacto de la pandemia de Covid-19 y la cri...</td>\n",
       "      <td>https://www.primicias.ec/noticias/sociedad/mun...</td>\n",
       "      <td>Low execution of the Quito budget shows poor m...</td>\n",
       "      <td>The impact of the Covid-19 pandemic and the in...</td>\n",
       "      <td>-0.200</td>\n",
       "      <td>0.450</td>\n",
       "      <td>0.000</td>\n",
       "      <td>0.3000</td>\n",
       "      <td>REAL</td>\n",
       "    </tr>\n",
       "    <tr>\n",
       "      <th>1</th>\n",
       "      <td>Centros de diálisis en crisis por deuda millon...</td>\n",
       "      <td>El Ministerio de Salud le debe a 80 centros de...</td>\n",
       "      <td>https://www.primicias.ec/noticias/sociedad/cen...</td>\n",
       "      <td>Dialysis centers in crisis due to millionaire ...</td>\n",
       "      <td>The Ministry of Health owes 80 private dialysi...</td>\n",
       "      <td>-0.125</td>\n",
       "      <td>0.375</td>\n",
       "      <td>0.250</td>\n",
       "      <td>0.4375</td>\n",
       "      <td>REAL</td>\n",
       "    </tr>\n",
       "    <tr>\n",
       "      <th>2</th>\n",
       "      <td>271.440 dosis de Pfizer llegaron a Ecuador est...</td>\n",
       "      <td>El cargamento de la vacuna arribó al aeropuert...</td>\n",
       "      <td>https://www.primicias.ec/noticias/sociedad/vac...</td>\n",
       "      <td>271,440 doses of Pfizer arrived in Ecuador thi...</td>\n",
       "      <td>The shipment of the vaccine arrived at the Mar...</td>\n",
       "      <td>0.000</td>\n",
       "      <td>0.000</td>\n",
       "      <td>0.000</td>\n",
       "      <td>0.0000</td>\n",
       "      <td>REAL</td>\n",
       "    </tr>\n",
       "    <tr>\n",
       "      <th>3</th>\n",
       "      <td>2 de agosto de 2021: Ecuador llega a los 487.7...</td>\n",
       "      <td>El Ministerio de Salud detalla que en el país ...</td>\n",
       "      <td>https://www.primicias.ec/noticias/sociedad/ago...</td>\n",
       "      <td>August 2, 2021: Ecuador reaches 487,702 cases ...</td>\n",
       "      <td>The Ministry of Health details that in the cou...</td>\n",
       "      <td>0.000</td>\n",
       "      <td>0.000</td>\n",
       "      <td>0.400</td>\n",
       "      <td>1.0000</td>\n",
       "      <td>REAL</td>\n",
       "    </tr>\n",
       "    <tr>\n",
       "      <th>4</th>\n",
       "      <td>Municipio de Guayaquil donó 50 motos para fort...</td>\n",
       "      <td>La Policía recibió del Municipio de Guayaquil ...</td>\n",
       "      <td>https://www.primicias.ec/noticias/sociedad/mun...</td>\n",
       "      <td>Municipality of Guayaquil donated 50 motorcycl...</td>\n",
       "      <td>The Police received from the Municipality of G...</td>\n",
       "      <td>0.000</td>\n",
       "      <td>0.000</td>\n",
       "      <td>-0.125</td>\n",
       "      <td>0.3750</td>\n",
       "      <td>REAL</td>\n",
       "    </tr>\n",
       "  </tbody>\n",
       "</table>\n",
       "</div>"
      ],
      "text/plain": [
       "                                              titulo  \\\n",
       "0  Baja ejecución del presupuesto de Quito muestr...   \n",
       "1  Centros de diálisis en crisis por deuda millon...   \n",
       "2  271.440 dosis de Pfizer llegaron a Ecuador est...   \n",
       "3  2 de agosto de 2021: Ecuador llega a los 487.7...   \n",
       "4  Municipio de Guayaquil donó 50 motos para fort...   \n",
       "\n",
       "                                               texto  \\\n",
       "0  El impacto de la pandemia de Covid-19 y la cri...   \n",
       "1  El Ministerio de Salud le debe a 80 centros de...   \n",
       "2  El cargamento de la vacuna arribó al aeropuert...   \n",
       "3  El Ministerio de Salud detalla que en el país ...   \n",
       "4  La Policía recibió del Municipio de Guayaquil ...   \n",
       "\n",
       "                                                 url  \\\n",
       "0  https://www.primicias.ec/noticias/sociedad/mun...   \n",
       "1  https://www.primicias.ec/noticias/sociedad/cen...   \n",
       "2  https://www.primicias.ec/noticias/sociedad/vac...   \n",
       "3  https://www.primicias.ec/noticias/sociedad/ago...   \n",
       "4  https://www.primicias.ec/noticias/sociedad/mun...   \n",
       "\n",
       "                                           titulo_en  \\\n",
       "0  Low execution of the Quito budget shows poor m...   \n",
       "1  Dialysis centers in crisis due to millionaire ...   \n",
       "2  271,440 doses of Pfizer arrived in Ecuador thi...   \n",
       "3  August 2, 2021: Ecuador reaches 487,702 cases ...   \n",
       "4  Municipality of Guayaquil donated 50 motorcycl...   \n",
       "\n",
       "                                            texto_en  sent_tit_p  sent_tit_s  \\\n",
       "0  The impact of the Covid-19 pandemic and the in...      -0.200       0.450   \n",
       "1  The Ministry of Health owes 80 private dialysi...      -0.125       0.375   \n",
       "2  The shipment of the vaccine arrived at the Mar...       0.000       0.000   \n",
       "3  The Ministry of Health details that in the cou...       0.000       0.000   \n",
       "4  The Police received from the Municipality of G...       0.000       0.000   \n",
       "\n",
       "   sent_tex_p  sent_tex_s label  \n",
       "0       0.000      0.3000  REAL  \n",
       "1       0.250      0.4375  REAL  \n",
       "2       0.000      0.0000  REAL  \n",
       "3       0.400      1.0000  REAL  \n",
       "4      -0.125      0.3750  REAL  "
      ]
     },
     "execution_count": 22,
     "metadata": {},
     "output_type": "execute_result"
    }
   ],
   "source": [
    "#Obtener forma y cabecera - Get shape and head\n",
    "df2.shape\n",
    "df2.head()"
   ]
  },
  {
   "cell_type": "code",
   "execution_count": 23,
   "metadata": {},
   "outputs": [
    {
     "data": {
      "text/plain": [
       "0    REAL\n",
       "1    REAL\n",
       "2    REAL\n",
       "3    REAL\n",
       "4    REAL\n",
       "Name: label, dtype: object"
      ]
     },
     "execution_count": 23,
     "metadata": {},
     "output_type": "execute_result"
    }
   ],
   "source": [
    "# Obtengo las etiquetas \n",
    "labels=df2.label\n",
    "labels.head()"
   ]
  },
  {
   "cell_type": "code",
   "execution_count": 24,
   "metadata": {},
   "outputs": [],
   "source": [
    "#Dividir el conjunto de datos \n",
    "x_train,x_test,y_train,y_test=train_test_split(df2['texto_en'], labels, test_size=0.2, random_state=7)"
   ]
  },
  {
   "cell_type": "code",
   "execution_count": 25,
   "metadata": {},
   "outputs": [],
   "source": [
    "#Inicializar un TfidfVectorizer \n",
    "tfidf_vectorizer=TfidfVectorizer(stop_words='english', max_df=0.7)"
   ]
  },
  {
   "cell_type": "code",
   "execution_count": 26,
   "metadata": {},
   "outputs": [],
   "source": [
    "#Ajustar y transformar el conjunto de trenes, transformar el conjunto de pruebas \n",
    "tfidf_train=tfidf_vectorizer.fit_transform(x_train) \n",
    "tfidf_test=tfidf_vectorizer.transform(x_test)"
   ]
  },
  {
   "cell_type": "code",
   "execution_count": 27,
   "metadata": {},
   "outputs": [
    {
     "name": "stdout",
     "output_type": "stream",
     "text": [
      "Accuracy: 93.98%\n"
     ]
    }
   ],
   "source": [
    "#Inicializar un PassiveAggressiveClassifier \n",
    "pac=PassiveAggressiveClassifier(max_iter=50)\n",
    "pac.fit(tfidf_train,y_train)\n",
    "\n",
    "#Predecir en el equipo de prueba y calcular la precisión \n",
    "y_pred=pac.predict(tfidf_test)\n",
    "score=accuracy_score(y_test,y_pred)\n",
    "print(f'Accuracy: {round(score*100,2)}%')"
   ]
  },
  {
   "cell_type": "code",
   "execution_count": 28,
   "metadata": {},
   "outputs": [
    {
     "data": {
      "text/plain": [
       "array([[592,  32],\n",
       "       [ 45, 611]], dtype=int64)"
      ]
     },
     "execution_count": 28,
     "metadata": {},
     "output_type": "execute_result"
    }
   ],
   "source": [
    "#Construimos una matriz de confusión \n",
    "confusion_matrix(y_test,y_pred, labels=['FAKE','REAL'])"
   ]
  },
  {
   "cell_type": "markdown",
   "metadata": {},
   "source": [
    "**CONCLUSION**"
   ]
  },
  {
   "cell_type": "markdown",
   "metadata": {},
   "source": [
    "Entonces, con este modelo de dataset, tenemos [1][1]=? verdaderos positivos, [2][2]=? verdaderos negativos, [2][1]=? falsos positivos y [1][2]=? falsos negativos."
   ]
  }
 ],
 "metadata": {
  "kernelspec": {
   "display_name": "Python 3",
   "language": "python",
   "name": "python3"
  },
  "language_info": {
   "codemirror_mode": {
    "name": "ipython",
    "version": 3
   },
   "file_extension": ".py",
   "mimetype": "text/x-python",
   "name": "python",
   "nbconvert_exporter": "python",
   "pygments_lexer": "ipython3",
   "version": "3.8.3"
  }
 },
 "nbformat": 4,
 "nbformat_minor": 4
}
